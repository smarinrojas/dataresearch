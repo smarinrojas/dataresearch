{
  "nbformat": 4,
  "nbformat_minor": 0,
  "metadata": {
    "colab": {
      "name": "EnhancedFibonacci.ipynb",
      "provenance": [],
      "collapsed_sections": []
    },
    "kernelspec": {
      "name": "python3",
      "display_name": "Python 3"
    }
  },
  "cells": [
    {
      "cell_type": "code",
      "metadata": {
        "id": "ZVsHwX6EP0lQ",
        "colab_type": "code",
        "colab": {}
      },
      "source": [
        "import time"
      ],
      "execution_count": 0,
      "outputs": []
    },
    {
      "cell_type": "code",
      "metadata": {
        "id": "0RhoBDGHIV-c",
        "colab_type": "code",
        "colab": {}
      },
      "source": [
        "#memoization\n",
        "\n",
        "def dynamic_fibonacci(n, memo = {}):\n",
        "    \n",
        "    if n == 1:\n",
        "        return 1\n",
        "    elif n == 2:\n",
        "        return 1\n",
        "\n",
        "    try:\n",
        "        return memo[n]\n",
        "    except KeyError:\n",
        "        resul = dynamic_fibonacci(n - 1, memo) + dynamic_fibonacci(n - 2, memo)\n",
        "        memo[n] = resul\n",
        "        return resul"
      ],
      "execution_count": 0,
      "outputs": []
    },
    {
      "cell_type": "markdown",
      "metadata": {
        "id": "LsR886OJPO4N",
        "colab_type": "text"
      },
      "source": [
        ""
      ]
    },
    {
      "cell_type": "code",
      "metadata": {
        "id": "YaVz3vNeJHFx",
        "colab_type": "code",
        "outputId": "1ed3877a-45f2-4e69-fc38-08980abd78b8",
        "colab": {
          "base_uri": "https://localhost:8080/",
          "height": 68
        }
      },
      "source": [
        "n = int(input('Pick a number :'))\n",
        " \n",
        "start_time = time.time()\n",
        "resultado = dynamic_fibonacci(n)\n",
        "elapsed_time = time.time() - start_time\n",
        "\n",
        "print('Elapsed Time : ' + str(elapsed_time))\n",
        "print(resultado)"
      ],
      "execution_count": 7,
      "outputs": [
        {
          "output_type": "stream",
          "text": [
            "Escoge un numero :100\n",
            "Elapsed Time : 0.0001220703125\n",
            "354224848179261915075\n"
          ],
          "name": "stdout"
        }
      ]
    }
  ]
}