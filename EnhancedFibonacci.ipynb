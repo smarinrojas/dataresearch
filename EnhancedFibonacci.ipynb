{
  "nbformat": 4,
  "nbformat_minor": 0,
  "metadata": {
    "colab": {
      "name": "EnhancedFibonacci.ipynb",
      "provenance": [],
      "collapsed_sections": []
    },
    "kernelspec": {
      "name": "python3",
      "display_name": "Python 3"
    }
  },
  "cells": [
    {
      "cell_type": "code",
      "metadata": {
        "id": "0RhoBDGHIV-c",
        "colab_type": "code",
        "colab": {}
      },
      "source": [
        "#memoization\n",
        "\n",
        "def dynamic_fibonacci(n, memo = {}):\n",
        "    \n",
        "    if n == 1:\n",
        "        return 1\n",
        "    elif n == 2:\n",
        "        return 1\n",
        "\n",
        "    try:\n",
        "        return memo[n]\n",
        "    except KeyError:\n",
        "        resul = dynamic_fibonacci(n - 1, memo) + dynamic_fibonacci(n - 2, memo)\n",
        "        memo[n] = resul\n",
        "        return resul"
      ],
      "execution_count": 0,
      "outputs": []
    },
    {
      "cell_type": "code",
      "metadata": {
        "id": "YaVz3vNeJHFx",
        "colab_type": "code",
        "colab": {
          "base_uri": "https://localhost:8080/",
          "height": 51
        },
        "outputId": "8dbf8c42-82cb-45b9-bf40-481c24906e3e"
      },
      "source": [
        "n = int(input('Escoge un numero :'))\n",
        "resultado = dynamic_fibonacci(n)\n",
        "print(resultado)"
      ],
      "execution_count": 16,
      "outputs": [
        {
          "output_type": "stream",
          "text": [
            "Escoge un numero :50\n",
            "12586269025\n"
          ],
          "name": "stdout"
        }
      ]
    }
  ]
}