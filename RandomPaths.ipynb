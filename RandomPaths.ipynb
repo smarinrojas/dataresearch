{
 "cells": [
  {
   "cell_type": "code",
   "execution_count": 32,
   "metadata": {},
   "outputs": [],
   "source": [
    "import random"
   ]
  },
  {
   "cell_type": "code",
   "execution_count": 18,
   "metadata": {},
   "outputs": [],
   "source": [
    "walker_steps = [10, 100, 1000, 10000]\n",
    "number_of_attempts = 100"
   ]
  },
  {
   "cell_type": "code",
   "execution_count": 19,
   "metadata": {},
   "outputs": [],
   "source": [
    "class RandomWalker:\n",
    "    def __init__(self, name):\n",
    "        self.name = name"
   ]
  },
  {
   "cell_type": "code",
   "execution_count": 30,
   "metadata": {},
   "outputs": [],
   "source": [
    "class Walker(RandomPath):\n",
    "    def __init__(self, name):\n",
    "        super().__init__(name)\n",
    "        \n",
    "    def Walk(self):\n",
    "        return random.choice([(0,1), (0, -1), (1, 0), (-1, 0)])    "
   ]
  },
  {
   "cell_type": "code",
   "execution_count": 36,
   "metadata": {},
   "outputs": [],
   "source": [
    "class Coordinate:\n",
    "    def __init__(self, x, y):\n",
    "        self.x = x\n",
    "        self.y = y\n",
    "        \n",
    "    def Move(self, delta_x, delta_y):\n",
    "        return Coordinate(self.x + self.x, self.y + delta_y)\n",
    "    \n",
    "    def Distance(self, other_coordinate):\n",
    "        delta_x = self.x - other_coordinate.x\n",
    "        delta_y = self.y - other_coordinate.y\n",
    "        \n",
    "        return (delta_x**2 + delta_y**2) ** 0.5"
   ]
  },
  {
   "cell_type": "code",
   "execution_count": 26,
   "metadata": {},
   "outputs": [],
   "source": [
    "class Field:\n",
    "    def __init__(self):\n",
    "        self.walker_coordinates = {}\n",
    "        \n",
    "    def CreateWalker(self, walker, coordinate):\n",
    "        self.walker_coordinates[walker] = coordinate\n",
    "        \n",
    "    def MoveWalker(self, walker):\n",
    "        delta_x, delta_y = walker.Walk()\n",
    "        current_coordinate = self.walker_coordinates[walker]\n",
    "        new_coordinate = current_coordinate.Move(delta_x, delta_y)\n",
    "        self.walker_coordinates[walker] = new_coordinate\n",
    "\n",
    "    def GetWalkerCoordinate(self, walker):\n",
    "        return self.walker_coordinates[walker]\n",
    "        "
   ]
  },
  {
   "cell_type": "code",
   "execution_count": 41,
   "metadata": {},
   "outputs": [
    {
     "name": "stdout",
     "output_type": "stream",
     "text": [
      "Walker steps 10 random walk \n",
      " Average = 1.94\n",
      " Max = 5\n",
      " Min = 0\n",
      "Walker steps 100 random walk \n",
      " Average = 5.03\n",
      " Max = 13\n",
      " Min = 0\n",
      "Walker steps 1000 random walk \n",
      " Average = 16.33\n",
      " Max = 53\n",
      " Min = 0\n",
      "Walker steps 10000 random walk \n",
      " Average = 54.87\n",
      " Max = 169\n",
      " Min = 0\n"
     ]
    }
   ],
   "source": [
    "\n",
    "def RunWalk(field, walker, steps):\n",
    "    begining = field.GetWalkerCoordinate(walker)\n",
    "    \n",
    "    for _ in range(steps):\n",
    "        field.MoveWalker(walker)\n",
    "        \n",
    "    return begining.Distance(field.GetWalkerCoordinate(walker))\n",
    "\n",
    "\n",
    "def SimulateWalk(steps, number_of_attempts, walker):\n",
    "    walker = Walker(name='A')\n",
    "    origin = Coordinate(0,0)\n",
    "    distances = []\n",
    "    \n",
    "    for _ in range(number_of_attempts):\n",
    "        field = Field()\n",
    "        field.CreateWalker(walker, origin)\n",
    "        walksimulation = RunWalk(field, walker, steps)\n",
    "        distances.append(round(walksimulation))\n",
    "    return distances\n",
    "        \n",
    "for steps in walker_steps:\n",
    "    distances = SimulateWalk(steps, number_of_attempts, Walker)\n",
    "    avgDistance = round(sum(distances) / len(distances), 4)\n",
    "    maxDistance = max(distances)\n",
    "    minDistance = min(distances)\n",
    "    \n",
    "    print(f'{Walker.__name__} steps {steps} random walk ')\n",
    "    print(f' Average = {avgDistance}')\n",
    "    print(f' Max = {maxDistance}')\n",
    "    print(f' Min = {minDistance}')"
   ]
  },
  {
   "cell_type": "code",
   "execution_count": null,
   "metadata": {},
   "outputs": [],
   "source": []
  },
  {
   "cell_type": "code",
   "execution_count": null,
   "metadata": {},
   "outputs": [],
   "source": []
  }
 ],
 "metadata": {
  "kernelspec": {
   "display_name": "Python 3",
   "language": "python",
   "name": "python3"
  },
  "language_info": {
   "codemirror_mode": {
    "name": "ipython",
    "version": 3
   },
   "file_extension": ".py",
   "mimetype": "text/x-python",
   "name": "python",
   "nbconvert_exporter": "python",
   "pygments_lexer": "ipython3",
   "version": "3.7.6"
  }
 },
 "nbformat": 4,
 "nbformat_minor": 4
}
